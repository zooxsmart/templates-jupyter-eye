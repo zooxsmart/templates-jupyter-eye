{
 "cells": [
  {
   "cell_type": "markdown",
   "id": "3ba00388-294b-4d75-b38f-380b86e7ee93",
   "metadata": {},
   "source": [
    "# VISUALIZAÇÃO DE MAPAS COM A BIBLIOTECA FOLIUM"
   ]
  },
  {
   "cell_type": "markdown",
   "id": "152e4510-1e07-4f56-8d7d-47c24c58233e",
   "metadata": {},
   "source": [
    "### Importando as bibliotecas necessárias"
   ]
  },
  {
   "cell_type": "code",
   "execution_count": null,
   "id": "db6bb808-2e62-48b3-89f0-8bd01b751cf5",
   "metadata": {
    "tags": []
   },
   "outputs": [],
   "source": [
    "import pandas as pd\n",
    "import folium\n",
    "import json\n",
    "from urllib.request import urlopen\n",
    "import plotly.graph_objects as go"
   ]
  },
  {
   "cell_type": "markdown",
   "id": "a6629b5a-f020-49cc-a182-3b1a7b414ebe",
   "metadata": {},
   "source": [
    "### Criando um primeiro choropleth map"
   ]
  },
  {
   "cell_type": "code",
   "execution_count": null,
   "id": "9bf21153-d241-41a3-9f24-39e0fa90005d",
   "metadata": {
    "tags": []
   },
   "outputs": [],
   "source": [
    "### Obtendo as bases de dados\n",
    "\n",
    "url = (\"https://raw.githubusercontent.com/python-visualization/folium/master/examples/data\")\n",
    "path_geo = f\"{url}/us-states.json\"\n",
    "path_df = f\"{url}/US_Unemployment_Oct2012.csv\"\n",
    "df_1 = pd.read_csv(path_df)"
   ]
  },
  {
   "cell_type": "code",
   "execution_count": null,
   "id": "a9ebb74a-dfab-458b-9f6b-0bf6a8513ddc",
   "metadata": {},
   "outputs": [],
   "source": [
    "### Criando o mapa\n",
    "\n",
    "folium_map = folium.Map(location = [40, -95], zoom_start = 4)\n",
    "\n",
    "folium.Choropleth(\n",
    "    geo_data = path_geo,\n",
    "    name = \"choropleth\",\n",
    "    data = df_1,\n",
    "    columns = [\"State\", \"Unemployment\"],\n",
    "    key_on = \"feature.id\",\n",
    "    fill_color = \"YlGn\",\n",
    "    fill_opacity = 0.7,\n",
    "    line_opacity = 0.1,\n",
    "    legend_name = \"Unemployment Rate (%)\",\n",
    ").add_to(folium_map)\n",
    "\n",
    "folium.LayerControl().add_to(folium_map)\n",
    "\n",
    "folium_map"
   ]
  },
  {
   "cell_type": "markdown",
   "id": "12ecc54c-aa38-48c3-b684-f62d1f72c43d",
   "metadata": {},
   "source": [
    "### Criando um mapa com marcações"
   ]
  },
  {
   "cell_type": "code",
   "execution_count": null,
   "id": "9dd60537-495b-4db0-86f4-7e3cd89c68cc",
   "metadata": {
    "tags": []
   },
   "outputs": [],
   "source": [
    "### Obtendo a base de dados\n",
    "\n",
    "df_3 = pd.read_csv('https://s3-api.us-geo.objectstorage.softlayer.net/cf-courses-data/CognitiveClass/DV0101EN/labs/Data_Files/Police_Department_Incidents_-_Previous_Year__2016_.csv')\n",
    "df_3 = df_3.iloc[0:200, :] # Considerando apenas as 200 primeiras observações"
   ]
  },
  {
   "cell_type": "code",
   "execution_count": null,
   "id": "d4ee6019-fe2c-4f80-9e64-6f852c6971ac",
   "metadata": {
    "tags": []
   },
   "outputs": [],
   "source": [
    "### Obtendo o mapa\n",
    "\n",
    "latitude = 37.77\n",
    "longitude= -122.42\n",
    "sanmap = folium.Map(location = [latitude, longitude], zoom_start = 12)\n",
    "\n",
    "incidents = folium.map.FeatureGroup()\n",
    "    \n",
    "for lat, lng, in zip(df_3.Y, df_3.X):\n",
    "    incidents.add_child(\n",
    "        folium.CircleMarker(\n",
    "        [lat, lng],\n",
    "        radius = 5, \n",
    "        color = 'yellow',\n",
    "        fill = True,\n",
    "        fill_color = 'blue',\n",
    "        fill_opacity = 0.6)\n",
    "    )\n",
    "    \n",
    "latitudes = list(df_3.Y)\n",
    "longitudes = list(df_3.X)\n",
    "labels = list(df_3.Category)\n",
    "\n",
    "for lat, lng, label in zip(latitudes, longitudes, labels):\n",
    "    folium.Marker([lat, lng], popup = label).add_to(sanmap)    \n",
    "    \n",
    "sanmap.add_child(incidents)"
   ]
  },
  {
   "cell_type": "code",
   "execution_count": null,
   "id": "9fcb3a85-4af7-4281-a15c-6ba5a7f334a2",
   "metadata": {},
   "outputs": [],
   "source": []
  }
 ],
 "metadata": {
  "kernelspec": {
   "display_name": "Python 3",
   "language": "python",
   "name": "python3"
  },
  "language_info": {
   "codemirror_mode": {
    "name": "ipython",
    "version": 3
   },
   "file_extension": ".py",
   "mimetype": "text/x-python",
   "name": "python",
   "nbconvert_exporter": "python",
   "pygments_lexer": "ipython3",
   "version": "3.8.8"
  }
 },
 "nbformat": 4,
 "nbformat_minor": 5
}
