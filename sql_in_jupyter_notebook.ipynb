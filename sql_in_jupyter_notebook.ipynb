{
 "cells": [
  {
   "cell_type": "markdown",
   "id": "9ca2d31c-f89b-42f2-a3d2-eb96af558a87",
   "metadata": {},
   "source": [
    "# UTILIZANDO A LINGUAGEM SQL NO JUPYTER NOTEBOOK"
   ]
  },
  {
   "cell_type": "markdown",
   "id": "00ab679e-da79-4348-9da4-4c177641d9e4",
   "metadata": {},
   "source": [
    "### Importando as bibliotecas necessárias"
   ]
  },
  {
   "cell_type": "code",
   "execution_count": null,
   "id": "ff1fa572-6109-496e-96ec-1df0bd5271ea",
   "metadata": {},
   "outputs": [],
   "source": [
    "import pandas as pd\n",
    "import sqlite3"
   ]
  },
  {
   "cell_type": "markdown",
   "id": "26280dda-0f1d-4435-a718-56324830b2d4",
   "metadata": {},
   "source": [
    "É necessário instalar a biblioteca ipython-sql. Caso não tenha essa biblioteca instalada, é possível fazer a instalação por meio do seguinte comando:\n",
    "\n",
    "**pip install ipython-sql**"
   ]
  },
  {
   "cell_type": "markdown",
   "id": "bbcf6246-86c3-45b7-ab2d-59a37c73acd2",
   "metadata": {},
   "source": [
    "### Criando um dataframe de exemplo"
   ]
  },
  {
   "cell_type": "code",
   "execution_count": null,
   "id": "38116eec-f8d6-49c7-9b9d-2fbfdaf1d391",
   "metadata": {},
   "outputs": [],
   "source": [
    "df = pd.DataFrame({'name': ['Oliver', 'Alice', 'John', 'Juan', 'Mary'], \n",
    "                  'age': [23, 44, 35, 24, 38], \n",
    "                  'city': ['Miami', 'Buenos Aires', 'Miami', 'Paris', 'Rio de Janeiro']})\n",
    "\n",
    "df"
   ]
  },
  {
   "cell_type": "markdown",
   "id": "17fcccf7-673a-4c9f-b4b1-0c315a490585",
   "metadata": {},
   "source": [
    "### Criando uma conexão"
   ]
  },
  {
   "cell_type": "code",
   "execution_count": null,
   "id": "7cbdb719-8870-4f0a-9c1a-075e539c4a70",
   "metadata": {},
   "outputs": [],
   "source": [
    "connection = sqlite3.connect('sql_in_python_tutorial.db')"
   ]
  },
  {
   "cell_type": "code",
   "execution_count": null,
   "id": "fec1c460-218c-4929-951f-3b3b23bd32f2",
   "metadata": {},
   "outputs": [],
   "source": [
    "df.to_sql('peoples', connection)"
   ]
  },
  {
   "cell_type": "markdown",
   "id": "e1dd1d03-dcb1-4a83-8181-f8904755ab75",
   "metadata": {},
   "source": [
    "### Utilizando a linguagem SQL"
   ]
  },
  {
   "cell_type": "code",
   "execution_count": null,
   "id": "3473eebc-03ce-42fa-83df-d0afff513054",
   "metadata": {},
   "outputs": [],
   "source": [
    "%load_ext sql"
   ]
  },
  {
   "cell_type": "code",
   "execution_count": null,
   "id": "26d53d80-c9a7-4863-b86f-6d28d7ce8b81",
   "metadata": {},
   "outputs": [],
   "source": [
    "%sql sqlite:///sql_in_python_tutorial.db"
   ]
  },
  {
   "cell_type": "code",
   "execution_count": null,
   "id": "7d900763-5686-4ea8-82bb-9510359669f7",
   "metadata": {
    "tags": []
   },
   "outputs": [],
   "source": [
    "%%sql\n",
    "\n",
    "-- Mostrando a tabela completa\n",
    "\n",
    "select * from peoples"
   ]
  },
  {
   "cell_type": "code",
   "execution_count": null,
   "id": "a85c5ed0-e8cd-4bd1-99f1-5b266d98e334",
   "metadata": {},
   "outputs": [],
   "source": [
    "%%sql\n",
    "\n",
    "-- Contando o número de linhas\n",
    "\n",
    "select count(*) from peoples"
   ]
  },
  {
   "cell_type": "code",
   "execution_count": null,
   "id": "d9f4c128-8dbb-4076-ab66-1569b7cc57ac",
   "metadata": {},
   "outputs": [],
   "source": [
    "%%sql \n",
    "\n",
    "-- Soma das idades\n",
    "\n",
    "select sum(age) as 'age_sum' from peoples"
   ]
  },
  {
   "cell_type": "code",
   "execution_count": null,
   "id": "a430f9be-efb4-4e31-ac2a-a983d8bebf57",
   "metadata": {
    "tags": []
   },
   "outputs": [],
   "source": [
    "%%sql \n",
    "\n",
    "-- Considerando apenas os residentes em Miami\n",
    "\n",
    "select * from peoples \n",
    "where city = 'Miami'"
   ]
  },
  {
   "cell_type": "code",
   "execution_count": null,
   "id": "b67657fd-e5a5-447b-bb90-9ebf1a93fca5",
   "metadata": {},
   "outputs": [],
   "source": []
  }
 ],
 "metadata": {
  "kernelspec": {
   "display_name": ".analytics_env",
   "language": "python",
   "name": ".analytics_env"
  },
  "language_info": {
   "codemirror_mode": {
    "name": "ipython",
    "version": 3
   },
   "file_extension": ".py",
   "mimetype": "text/x-python",
   "name": "python",
   "nbconvert_exporter": "python",
   "pygments_lexer": "ipython3",
   "version": "3.8.8"
  }
 },
 "nbformat": 4,
 "nbformat_minor": 5
}
