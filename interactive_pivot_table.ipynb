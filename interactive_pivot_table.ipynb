{
 "cells": [
  {
   "cell_type": "markdown",
   "id": "4139c0d9-ba15-4d66-b7db-3cc124692abe",
   "metadata": {},
   "source": [
    "# TABELAS DINÂMICAS INTERATIVAS"
   ]
  },
  {
   "cell_type": "markdown",
   "id": "c1de69e5-77d3-49ae-93b0-86df3c4d2942",
   "metadata": {},
   "source": [
    "### Importando as bibliotecas necessárias"
   ]
  },
  {
   "cell_type": "code",
   "execution_count": null,
   "id": "7fafe8f0-4bf5-4966-9e89-ada81295134f",
   "metadata": {
    "tags": []
   },
   "outputs": [],
   "source": [
    "import pandas as pd\n",
    "from pivottablejs import pivot_ui\n",
    "import ipypivot as pt"
   ]
  },
  {
   "cell_type": "markdown",
   "id": "225f3ee0-a510-48a8-9771-a4908d4b1091",
   "metadata": {},
   "source": [
    "### Carregando a base de dados"
   ]
  },
  {
   "cell_type": "code",
   "execution_count": null,
   "id": "930e4c78-a718-4752-bd40-010f8eb8dccc",
   "metadata": {
    "tags": []
   },
   "outputs": [],
   "source": [
    "df = pd.read_csv('https://raw.githubusercontent.com/vega/vega-datasets/next/data/birdstrikes.csv')\n",
    "df['Flight Date'] = pd.to_datetime(df['Flight Date'])\n",
    "df['Year'] = df['Flight Date'].dt.year\n",
    "df['Month'] = df['Flight Date'].dt.month\n",
    "\n",
    "df.head()"
   ]
  },
  {
   "cell_type": "markdown",
   "id": "706345c3-7fed-4251-987c-088639f67900",
   "metadata": {},
   "source": [
    "### Criando a tabela dinâmica interativa"
   ]
  },
  {
   "cell_type": "code",
   "execution_count": null,
   "id": "934bf644-1131-4b02-ac0d-de0cf343123e",
   "metadata": {},
   "outputs": [],
   "source": [
    "pivot_ui(df)"
   ]
  },
  {
   "cell_type": "code",
   "execution_count": null,
   "id": "eaccfd28-6e5b-4517-b924-86d7aa7f1496",
   "metadata": {},
   "outputs": [],
   "source": []
  }
 ],
 "metadata": {
  "kernelspec": {
   "display_name": ".analytics_env",
   "language": "python",
   "name": ".analytics_env"
  },
  "language_info": {
   "codemirror_mode": {
    "name": "ipython",
    "version": 3
   },
   "file_extension": ".py",
   "mimetype": "text/x-python",
   "name": "python",
   "nbconvert_exporter": "python",
   "pygments_lexer": "ipython3",
   "version": "3.8.8"
  }
 },
 "nbformat": 4,
 "nbformat_minor": 5
}
